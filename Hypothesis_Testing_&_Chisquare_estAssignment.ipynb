{
  "nbformat": 4,
  "nbformat_minor": 0,
  "metadata": {
    "colab": {
      "provenance": []
    },
    "kernelspec": {
      "name": "python3",
      "display_name": "Python 3"
    },
    "language_info": {
      "name": "python"
    }
  },
  "cells": [
    {
      "cell_type": "markdown",
      "source": [
        "## chisquare"
      ],
      "metadata": {
        "id": "4r8VK9X1qDan"
      }
    },
    {
      "cell_type": "code",
      "execution_count": 1,
      "metadata": {
        "id": "w2CuYRVaowU1"
      },
      "outputs": [],
      "source": [
        "import scipy.stats as stats\n",
        "import numpy as np"
      ]
    },
    {
      "cell_type": "code",
      "source": [
        "# Contingency table\n",
        "table = np.array([\n",
        "    [50, 70],  # Very Satisfied\n",
        "    [80, 100],  # Satisfied\n",
        "    [60, 90],  # Neutral\n",
        "    [30, 50],  # Unsatisfied\n",
        "    [20, 50]  # Very Unsatisfied\n",
        "])"
      ],
      "metadata": {
        "id": "AAkU4Ym1Ca62"
      },
      "execution_count": 2,
      "outputs": []
    },
    {
      "cell_type": "code",
      "source": [
        "# Step 1: State the Hypotheses\n",
        "print(\"Hypotheses:\")\n",
        "print(\"H0: There is no significant association between the type of smart home device purchased and the customer satisfaction level.\")\n",
        "print(\"H1: There is a significant association between the type of smart home device purchased and the customer satisfaction level.\")"
      ],
      "metadata": {
        "colab": {
          "base_uri": "https://localhost:8080/"
        },
        "id": "noUb-c9gCfwN",
        "outputId": "81031a95-8026-4408-d17d-8c9f6ea311f6"
      },
      "execution_count": 3,
      "outputs": [
        {
          "output_type": "stream",
          "name": "stdout",
          "text": [
            "Hypotheses:\n",
            "H0: There is no significant association between the type of smart home device purchased and the customer satisfaction level.\n",
            "H1: There is a significant association between the type of smart home device purchased and the customer satisfaction level.\n"
          ]
        }
      ]
    },
    {
      "cell_type": "code",
      "source": [
        "# Step 2: Compute the Chi-Square Statistic\n",
        "chi2, p, dof, expected = stats.chi2_contingency(table)\n",
        "print(\"\\nChi-Square Statistic:\")\n",
        "print(f\"χ² = {chi2:.4f}\")"
      ],
      "metadata": {
        "colab": {
          "base_uri": "https://localhost:8080/"
        },
        "id": "nCzPv0KZCfxS",
        "outputId": "aab7f40e-4af4-4126-eb31-1f9ff30cef01"
      },
      "execution_count": 4,
      "outputs": [
        {
          "output_type": "stream",
          "name": "stdout",
          "text": [
            "\n",
            "Chi-Square Statistic:\n",
            "χ² = 5.6382\n"
          ]
        }
      ]
    },
    {
      "cell_type": "code",
      "source": [
        "# Step 3: Determine the Critical Value\n",
        "alpha = 0.05\n",
        "dof = (table.shape[0] - 1) * (table.shape[1] - 1)\n",
        "critical_value = stats.chi2.ppf(1 - alpha, dof)\n",
        "print(\"\\nCritical Value:\")\n",
        "print(f\"Critical χ² = {critical_value:.4f}\")"
      ],
      "metadata": {
        "colab": {
          "base_uri": "https://localhost:8080/"
        },
        "id": "Xw7HFsz2Cf2G",
        "outputId": "8a2b82ec-6134-45d1-c699-eeb6e14b89aa"
      },
      "execution_count": 5,
      "outputs": [
        {
          "output_type": "stream",
          "name": "stdout",
          "text": [
            "\n",
            "Critical Value:\n",
            "Critical χ² = 9.4877\n"
          ]
        }
      ]
    },
    {
      "cell_type": "code",
      "source": [
        "# Step 4: Make a Decision\n",
        "print(\"\\nDecision:\")\n",
        "if chi2 > critical_value:\n",
        "    print(\"Reject the null hypothesis (H0). There is a significant association between the type of smart home device purchased and the customer satisfaction level.\")\n",
        "else:\n",
        "    print(\"Fail to reject the null hypothesis (H0). There is no significant association between the type of smart home device purchased and the customer satisfaction level.\")"
      ],
      "metadata": {
        "colab": {
          "base_uri": "https://localhost:8080/"
        },
        "id": "D4T3E98dCf3D",
        "outputId": "3cda93ec-90b3-4551-d9c4-26008b919faa"
      },
      "execution_count": 6,
      "outputs": [
        {
          "output_type": "stream",
          "name": "stdout",
          "text": [
            "\n",
            "Decision:\n",
            "Fail to reject the null hypothesis (H0). There is no significant association between the type of smart home device purchased and the customer satisfaction level.\n"
          ]
        }
      ]
    },
    {
      "cell_type": "code",
      "source": [],
      "metadata": {
        "id": "4QwBXk5ICf7u"
      },
      "execution_count": 6,
      "outputs": []
    },
    {
      "cell_type": "code",
      "source": [],
      "metadata": {
        "id": "SNHiSFMXCf8q"
      },
      "execution_count": 6,
      "outputs": []
    },
    {
      "cell_type": "code",
      "source": [],
      "metadata": {
        "id": "cje-zgVYCgCY"
      },
      "execution_count": 6,
      "outputs": []
    },
    {
      "cell_type": "code",
      "source": [],
      "metadata": {
        "id": "eoKZL2XspBKn"
      },
      "execution_count": 6,
      "outputs": []
    },
    {
      "cell_type": "markdown",
      "source": [
        "## hypothesis testing"
      ],
      "metadata": {
        "id": "qOWCdisFqJCJ"
      }
    },
    {
      "cell_type": "code",
      "source": [],
      "metadata": {
        "id": "v_TicvUxqNrV"
      },
      "execution_count": 6,
      "outputs": []
    },
    {
      "cell_type": "code",
      "source": [
        "# Step 1: State the Hypotheses\n",
        "print(\"Hypotheses:\")\n",
        "print(\"H0: The weekly operating cost model is accurate, and the mean weekly cost is $1,000 + $5X.\")\n",
        "print(\"H1: The weekly operating cost model is not accurate, and the mean weekly cost is higher than $1,000 + $5X.\")"
      ],
      "metadata": {
        "colab": {
          "base_uri": "https://localhost:8080/"
        },
        "id": "V40oB1G1Dam7",
        "outputId": "35c5adeb-e8b3-459a-8197-f75ff31f86e0"
      },
      "execution_count": 7,
      "outputs": [
        {
          "output_type": "stream",
          "name": "stdout",
          "text": [
            "Hypotheses:\n",
            "H0: The weekly operating cost model is accurate, and the mean weekly cost is $1,000 + $5X.\n",
            "H1: The weekly operating cost model is not accurate, and the mean weekly cost is higher than $1,000 + $5X.\n"
          ]
        }
      ]
    },
    {
      "cell_type": "code",
      "source": [
        "# Step 2: Calculate the Test Statistic\n",
        "x_bar = 3050  # sample mean weekly cost\n",
        "mu = 1000 + 5 * 600  # theoretical mean weekly cost according to the cost model\n",
        "sigma = 5 * 25  # standard deviation\n",
        "n = 25  # sample size\n",
        "\n",
        "t = (x_bar - mu) / (sigma / math.sqrt(n))\n",
        "print(\"\\nTest Statistic:\")\n",
        "print(f\"t = {t:.4f}\")"
      ],
      "metadata": {
        "colab": {
          "base_uri": "https://localhost:8080/"
        },
        "id": "1YFwbgQFDbWT",
        "outputId": "1f0b1414-c7d0-4671-e73c-4f03827d6d61"
      },
      "execution_count": 10,
      "outputs": [
        {
          "output_type": "stream",
          "name": "stdout",
          "text": [
            "\n",
            "Test Statistic:\n",
            "t = -38.0000\n"
          ]
        }
      ]
    },
    {
      "cell_type": "code",
      "source": [
        "# Step 3: Determine the Critical Value\n",
        "alpha = 0.05\n",
        "critical_value = norm.ppf(1 - alpha)\n",
        "print(\"\\nCritical Value:\")\n",
        "print(f\"Critical t = {critical_value:.4f}\")"
      ],
      "metadata": {
        "colab": {
          "base_uri": "https://localhost:8080/"
        },
        "id": "EXxuooAWDbXb",
        "outputId": "b9075931-c092-42fa-a478-b3f818977fd9"
      },
      "execution_count": 11,
      "outputs": [
        {
          "output_type": "stream",
          "name": "stdout",
          "text": [
            "\n",
            "Critical Value:\n",
            "Critical t = 1.6449\n"
          ]
        }
      ]
    },
    {
      "cell_type": "code",
      "source": [
        "# Step 4: Make a Decision\n",
        "print(\"\\nDecision:\")\n",
        "if t > critical_value:\n",
        "    print(\"Reject the null hypothesis (H0). There is strong evidence to support the restaurant owners' claim that the weekly operating costs are higher than the model suggests.\")\n",
        "else:\n",
        "    print(\"Fail to reject the null hypothesis (H0). There is no strong evidence to support the restaurant owners' claim that the weekly operating costs are higher than the model suggests.\")"
      ],
      "metadata": {
        "colab": {
          "base_uri": "https://localhost:8080/"
        },
        "id": "R83x5CSMDbqo",
        "outputId": "a98c58ab-961a-43ca-e691-96236c83ea68"
      },
      "execution_count": 12,
      "outputs": [
        {
          "output_type": "stream",
          "name": "stdout",
          "text": [
            "\n",
            "Decision:\n",
            "Fail to reject the null hypothesis (H0). There is no strong evidence to support the restaurant owners' claim that the weekly operating costs are higher than the model suggests.\n"
          ]
        }
      ]
    },
    {
      "cell_type": "code",
      "source": [
        "# Step 5: Conclusion\n",
        "print(\"\\nConclusion:\")\n",
        "if t > critical_value:\n",
        "    print(\"Based on the analysis, there is strong evidence to support the restaurant owners' claim that the weekly operating costs are higher than the model suggests. The cost model may need to be revised to reflect the actual operating costs.\")\n",
        "else:\n",
        "    print(\"Based on the analysis, there is no strong evidence to support the restaurant owners' claim that the weekly operating costs are higher than the model suggests. The cost model may still be accurate.\")"
      ],
      "metadata": {
        "colab": {
          "base_uri": "https://localhost:8080/"
        },
        "id": "wyfPGSn_Dq1l",
        "outputId": "ec2e1694-5934-41ec-c3d7-3583e19232c6"
      },
      "execution_count": 13,
      "outputs": [
        {
          "output_type": "stream",
          "name": "stdout",
          "text": [
            "\n",
            "Conclusion:\n",
            "Based on the analysis, there is no strong evidence to support the restaurant owners' claim that the weekly operating costs are higher than the model suggests. The cost model may still be accurate.\n"
          ]
        }
      ]
    }
  ]
}