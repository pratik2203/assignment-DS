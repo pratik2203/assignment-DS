{
  "nbformat": 4,
  "nbformat_minor": 0,
  "metadata": {
    "colab": {
      "provenance": []
    },
    "kernelspec": {
      "name": "python3",
      "display_name": "Python 3"
    },
    "language_info": {
      "name": "python"
    }
  },
  "cells": [
    {
      "cell_type": "code",
      "execution_count": null,
      "metadata": {
        "id": "t6fHK0a3blop"
      },
      "outputs": [],
      "source": [
        "import pandas as pd\n",
        "import numpy as np\n",
        "import matplotlib.pyplot as plt\n",
        "import seaborn as sns\n",
        "import warnings\n",
        "warnings.filterwarnings('ignore')"
      ]
    },
    {
      "cell_type": "code",
      "source": [
        "df=pd.read_csv('anime.csv')"
      ],
      "metadata": {
        "id": "CLs_F841cMNz"
      },
      "execution_count": null,
      "outputs": []
    },
    {
      "cell_type": "markdown",
      "source": [
        "Data Preprocessing"
      ],
      "metadata": {
        "id": "d99BE4CecugV"
      }
    },
    {
      "cell_type": "code",
      "source": [
        "\n",
        "# Handle missing values\n",
        "df = df.dropna()\n",
        "\n",
        "# Explore the dataset\n",
        "print(df.head())\n",
        "print(df.info())\n",
        "print(df.describe())"
      ],
      "metadata": {
        "colab": {
          "base_uri": "https://localhost:8080/"
        },
        "id": "MIO-ekDrcMO5",
        "outputId": "812d65b6-cd68-4364-f5ad-5e16485d2cfd"
      },
      "execution_count": null,
      "outputs": [
        {
          "output_type": "stream",
          "name": "stdout",
          "text": [
            "   anime_id                              name  \\\n",
            "0     32281                    Kimi no Na wa.   \n",
            "1      5114  Fullmetal Alchemist: Brotherhood   \n",
            "2     28977                          Gintama°   \n",
            "3      9253                       Steins;Gate   \n",
            "4      9969                     Gintama&#039;   \n",
            "\n",
            "                                               genre   type episodes  rating  \\\n",
            "0               Drama, Romance, School, Supernatural  Movie        1    9.37   \n",
            "1  Action, Adventure, Drama, Fantasy, Magic, Mili...     TV       64    9.26   \n",
            "2  Action, Comedy, Historical, Parody, Samurai, S...     TV       51    9.25   \n",
            "3                                   Sci-Fi, Thriller     TV       24    9.17   \n",
            "4  Action, Comedy, Historical, Parody, Samurai, S...     TV       51    9.16   \n",
            "\n",
            "   members  \n",
            "0   200630  \n",
            "1   793665  \n",
            "2   114262  \n",
            "3   673572  \n",
            "4   151266  \n",
            "<class 'pandas.core.frame.DataFrame'>\n",
            "Index: 12017 entries, 0 to 12293\n",
            "Data columns (total 7 columns):\n",
            " #   Column    Non-Null Count  Dtype  \n",
            "---  ------    --------------  -----  \n",
            " 0   anime_id  12017 non-null  int64  \n",
            " 1   name      12017 non-null  object \n",
            " 2   genre     12017 non-null  object \n",
            " 3   type      12017 non-null  object \n",
            " 4   episodes  12017 non-null  object \n",
            " 5   rating    12017 non-null  float64\n",
            " 6   members   12017 non-null  int64  \n",
            "dtypes: float64(1), int64(2), object(4)\n",
            "memory usage: 751.1+ KB\n",
            "None\n",
            "           anime_id        rating       members\n",
            "count  12017.000000  12017.000000  1.201700e+04\n",
            "mean   13638.001165      6.478264  1.834888e+04\n",
            "std    11231.076675      1.023857  5.537250e+04\n",
            "min        1.000000      1.670000  1.200000e+01\n",
            "25%     3391.000000      5.890000  2.250000e+02\n",
            "50%     9959.000000      6.570000  1.552000e+03\n",
            "75%    23729.000000      7.180000  9.588000e+03\n",
            "max    34519.000000     10.000000  1.013917e+06\n"
          ]
        }
      ]
    },
    {
      "cell_type": "markdown",
      "source": [
        "Feature Extraction"
      ],
      "metadata": {
        "id": "gmWeMV_DcvzC"
      }
    },
    {
      "cell_type": "code",
      "source": [
        "from sklearn.preprocessing import LabelEncoder\n",
        "from sklearn.preprocessing import StandardScaler\n",
        "\n",
        "# Convert categorical features into numerical representations\n",
        "le = LabelEncoder()\n",
        "df['genre'] = le.fit_transform(df['genre'])\n",
        "\n",
        "# Normalize numerical features\n",
        "scaler = StandardScaler()\n",
        "df[['rating']] = scaler.fit_transform(df[['rating']])"
      ],
      "metadata": {
        "id": "jy5tnFsocMTt"
      },
      "execution_count": null,
      "outputs": []
    },
    {
      "cell_type": "markdown",
      "source": [
        "Recommendation System"
      ],
      "metadata": {
        "id": "im6RyLU9dLEp"
      }
    },
    {
      "cell_type": "code",
      "source": [
        "from sklearn.metrics.pairwise import cosine_similarity\n",
        "\n",
        "def recommend_anime(target_anime_id, num_recommendations):\n",
        "    # Get the features of the target anime\n",
        "    target_anime_features = df.loc[target_anime_id, ['genre', 'rating']]\n",
        "\n",
        "    # Calculate the cosine similarity scores\n",
        "    similarity_scores = cosine_similarity(target_anime_features.values.reshape(1, -1),df[['genre', 'rating']])\n",
        "\n",
        "    # Get the indices of the top N similar anime\n",
        "    top_indices = np.argsort(similarity_scores[0])[-num_recommendations:]\n",
        "\n",
        "    # Return the recommended anime\n",
        "    return df.iloc[top_indices]\n",
        "\n",
        "# Example usage:\n",
        "recommended_anime = recommend_anime(0, 5)\n",
        "print(recommended_anime)"
      ],
      "metadata": {
        "colab": {
          "base_uri": "https://localhost:8080/"
        },
        "id": "JW0jE_flcMU9",
        "outputId": "3d245923-83e7-4d33-8ed1-f47d22a34bc4"
      },
      "execution_count": null,
      "outputs": [
        {
          "output_type": "stream",
          "name": "stdout",
          "text": [
            "       anime_id                             name  genre   type episodes  \\\n",
            "10786     26313  Yakusoku: Africa Mizu to Midori   2556    OVA        1   \n",
            "483        2618                       Takarajima   1440     TV       26   \n",
            "156        1210                  NHK ni Youkoso!   1765     TV       24   \n",
            "1019      32668              Noblesse: Awakening   1142    ONA        1   \n",
            "0         32281                   Kimi no Na wa.   2660  Movie        1   \n",
            "\n",
            "         rating  members  \n",
            "10786  2.707265       53  \n",
            "483    1.525410     5306  \n",
            "156    1.877036   291228  \n",
            "1019   1.212853    28864  \n",
            "0      2.824474   200630  \n"
          ]
        }
      ]
    },
    {
      "cell_type": "markdown",
      "source": [
        "Evaluation"
      ],
      "metadata": {
        "id": "PBv3UpByddP5"
      }
    },
    {
      "cell_type": "code",
      "source": [
        "from sklearn.model_selection import train_test_split\n",
        "from sklearn.metrics import precision_score, recall_score, f1_score\n",
        "\n",
        "# Split the dataset into training and testing sets\n",
        "train_df, test_df = train_test_split(df, test_size=0.2, random_state=42)\n",
        "\n",
        "# Evaluate the recommendation system\n",
        "def evaluate_recommendation_system(recommended_anime, actual_anime):\n",
        "    # Extract anime IDs from recommended and actual anime DataFrames\n",
        "    recommended_ids = recommended_anime['anime_id'].tolist()\n",
        "    actual_ids = actual_anime['anime_id'].tolist()\n",
        "\n",
        "    # Calculate precision, recall, and F1-score using anime IDs\n",
        "    precision = precision_score(actual_ids, recommended_ids, average='micro') # Use 'micro' for overall precision\n",
        "    recall = recall_score(actual_ids, recommended_ids, average='micro') # Use 'micro' for overall recall\n",
        "    f1 = f1_score(actual_ids, recommended_ids, average='micro') # Use 'micro' for overall F1-score\n",
        "    return precision, recall, f1\n",
        "\n",
        "# Example usage:\n",
        "recommended_anime = recommend_anime(0, 5)\n",
        "actual_anime = test_df.iloc[:5]\n",
        "precision, recall, f1 = evaluate_recommendation_system(recommended_anime, actual_anime)\n",
        "print(f'Precision: {precision:.4f}, Recall: {recall:.4f}, F1-score: {f1:.4f}')"
      ],
      "metadata": {
        "colab": {
          "base_uri": "https://localhost:8080/"
        },
        "id": "WHVwE25AcMZD",
        "outputId": "0dda8f62-0ac9-491c-ea52-913f15cbdcc1"
      },
      "execution_count": null,
      "outputs": [
        {
          "output_type": "stream",
          "name": "stdout",
          "text": [
            "Precision: 0.0000, Recall: 0.0000, F1-score: 0.0000\n"
          ]
        }
      ]
    },
    {
      "cell_type": "markdown",
      "source": [
        "interview questions:\n",
        "\n",
        "1ST - Can you explain the difference between user-based and item-based collaborative filtering?\n",
        "\n",
        "ANS = Collaborative Filtering and Its Types\n",
        "\n",
        "Collaborative filtering is a technique used in recommendation systems to predict a user's preferences based on the behavior of similar users.\n",
        "\n",
        "Collaborative Filtering: Collaborative filtering works by analyzing the behavior of users and items in a system. It identifies patterns and relationships between users and items to make recommendations.\n",
        "\n",
        "\n",
        "\n",
        "2ND - What is collaborative filtering, and how does it work?\n",
        "\n",
        "ANS = User-Based vs Item-Based Collaborative Filtering:\n",
        "\n",
        "User-Based: Focuses on finding similar users and recommending items liked by those users.\n",
        "Item-Based: Focuses on finding similar items and recommending them to users who liked those items"
      ],
      "metadata": {
        "id": "KTru8V8y8MQ-"
      }
    },
    {
      "cell_type": "code",
      "source": [],
      "metadata": {
        "id": "Ip18vDaCcMaA"
      },
      "execution_count": null,
      "outputs": []
    },
    {
      "cell_type": "code",
      "source": [],
      "metadata": {
        "id": "DYs0dzv8cMdp"
      },
      "execution_count": null,
      "outputs": []
    },
    {
      "cell_type": "code",
      "source": [],
      "metadata": {
        "id": "Hj1wkGfBcMe4"
      },
      "execution_count": null,
      "outputs": []
    }
  ]
}